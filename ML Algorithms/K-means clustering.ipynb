{
 "cells": [
  {
   "cell_type": "code",
   "execution_count": 1,
   "id": "c1c46b9f",
   "metadata": {},
   "outputs": [],
   "source": [
    "# import required libraries\n",
    "import numpy as np\n",
    "# import k-means class from sklearn.cluster\n",
    "from sklearn.cluster import KMeans\n",
    "from sklearn.datasets import make_blobs"
   ]
  },
  {
   "cell_type": "code",
   "execution_count": 2,
   "id": "e97f8e7a",
   "metadata": {},
   "outputs": [],
   "source": [
    "# define number of samples\n",
    "n_samples=300\n"
   ]
  },
  {
   "cell_type": "code",
   "execution_count": 3,
   "id": "62da8863",
   "metadata": {},
   "outputs": [],
   "source": [
    "# define random state value to initialize the center\n",
    "random_state=20"
   ]
  },
  {
   "cell_type": "code",
   "execution_count": 4,
   "id": "32a2219d",
   "metadata": {},
   "outputs": [],
   "source": [
    "# define number of features as 5\n",
    "X,y=make_blobs(n_samples=n_samples,n_features=5,random_state=None)"
   ]
  },
  {
   "cell_type": "code",
   "execution_count": 5,
   "id": "a26c46d7",
   "metadata": {},
   "outputs": [
    {
     "data": {
      "text/plain": [
       "(300, 5)"
      ]
     },
     "execution_count": 5,
     "metadata": {},
     "output_type": "execute_result"
    }
   ],
   "source": [
    "# view the shape of the dataset\n",
    "X.shape"
   ]
  },
  {
   "cell_type": "code",
   "execution_count": 6,
   "id": "aca54b7e",
   "metadata": {},
   "outputs": [],
   "source": [
    "#define number of cluster to be formed as 3 and in random state fit features into the model\n",
    "predict_y=KMeans(n_clusters=3,random_state=random_state).fit_predict(X)\n"
   ]
  },
  {
   "cell_type": "code",
   "execution_count": 7,
   "id": "40f065a9",
   "metadata": {},
   "outputs": [
    {
     "data": {
      "text/plain": [
       "array([1, 0, 1, 1, 0, 1, 2, 2, 1, 1, 1, 1, 0, 0, 1, 1, 0, 2, 0, 1, 0, 1,\n",
       "       1, 1, 2, 1, 2, 2, 2, 2, 1, 0, 1, 0, 1, 0, 2, 2, 0, 0, 2, 2, 0, 0,\n",
       "       0, 0, 1, 0, 0, 2, 1, 1, 0, 0, 0, 2, 2, 2, 1, 2, 2, 0, 2, 2, 0, 1,\n",
       "       0, 2, 1, 1, 1, 2, 2, 2, 0, 2, 1, 1, 0, 1, 1, 2, 1, 0, 1, 2, 2, 2,\n",
       "       0, 0, 1, 2, 1, 1, 2, 0, 1, 2, 1, 2, 2, 1, 2, 1, 0, 2, 2, 0, 2, 1,\n",
       "       2, 2, 1, 1, 0, 2, 2, 0, 0, 2, 1, 1, 2, 1, 0, 2, 2, 0, 1, 1, 0, 0,\n",
       "       0, 0, 1, 2, 0, 0, 2, 0, 2, 2, 0, 0, 2, 1, 0, 0, 0, 0, 2, 0, 1, 1,\n",
       "       1, 2, 2, 0, 0, 1, 1, 1, 2, 2, 1, 1, 2, 2, 2, 1, 0, 2, 2, 0, 0, 1,\n",
       "       2, 2, 1, 2, 0, 1, 1, 2, 1, 0, 2, 1, 2, 1, 0, 0, 2, 0, 2, 1, 2, 2,\n",
       "       0, 1, 0, 1, 0, 2, 0, 1, 1, 1, 1, 1, 0, 0, 0, 1, 2, 0, 0, 0, 1, 0,\n",
       "       2, 0, 2, 0, 1, 1, 1, 1, 1, 1, 0, 2, 1, 1, 2, 2, 2, 1, 1, 2, 0, 0,\n",
       "       1, 0, 2, 0, 0, 2, 0, 2, 1, 2, 1, 1, 0, 1, 0, 1, 0, 2, 2, 1, 2, 0,\n",
       "       2, 2, 0, 1, 2, 0, 0, 0, 2, 2, 0, 2, 1, 0, 1, 2, 1, 0, 2, 1, 0, 2,\n",
       "       0, 1, 1, 2, 0, 0, 2, 2, 0, 0, 1, 0, 0, 2])"
      ]
     },
     "execution_count": 7,
     "metadata": {},
     "output_type": "execute_result"
    }
   ],
   "source": [
    "predict_y"
   ]
  }
 ],
 "metadata": {
  "kernelspec": {
   "display_name": "Python 3 (ipykernel)",
   "language": "python",
   "name": "python3"
  },
  "language_info": {
   "codemirror_mode": {
    "name": "ipython",
    "version": 3
   },
   "file_extension": ".py",
   "mimetype": "text/x-python",
   "name": "python",
   "nbconvert_exporter": "python",
   "pygments_lexer": "ipython3",
   "version": "3.9.7"
  }
 },
 "nbformat": 4,
 "nbformat_minor": 5
}
