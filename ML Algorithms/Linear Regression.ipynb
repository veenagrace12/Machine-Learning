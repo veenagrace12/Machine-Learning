{
 "cells": [
  {
   "attachments": {
    "images.png": {
     "image/png": "[encoded data removed]"
    }
   },
   "cell_type": "markdown",
   "id": "b7ab0940",
   "metadata": {},
   "source": [
    "![images.png](attachment:images.png)"
   ]
  },
  {
   "cell_type": "markdown",
   "id": "0245cf1b",
   "metadata": {},
   "source": [
    "Linear Regression:\n",
    "\n",
    "It is a machine learning algorithm based on supervised learning. It performs a regression task. \n",
    "Regression models a target prediction value based on independent variables. \n",
    "It is mostly used for finding out the relationship between variables and forecasting. \n",
    "Different regression models differ based on – the kind of relationship between dependent and \n",
    "independent variables, they are considering and the number of independent variables being used."
   ]
  },
  {
   "cell_type": "code",
   "execution_count": 1,
   "id": "4094adcf",
   "metadata": {},
   "outputs": [
    {
     "name": "stdout",
     "output_type": "stream",
     "text": [
      "Enter the x values range :10\n",
      "Enter the Y_values :1.7\n",
      "Enter the Y_values :4.0\n",
      "Enter the Y_values :6.9\n",
      "Enter the Y_values :9.5\n",
      "Enter the Y_values :11.7\n",
      "Enter the Y_values :13.9\n",
      "Enter the Y_values :16.6\n",
      "Enter the Y_values :19.3\n",
      "Enter the Y_values :22.8\n",
      "Enter the Y_values :25.1\n"
     ]
    }
   ],
   "source": [
    "import numpy as np\n",
    "import pandas as pd\n",
    "import matplotlib.pyplot as plt\n",
    "\n",
    "a=int(input('Enter the x values range :'))\n",
    "x=[i for i in range(1,a+1)]\n",
    "y=[]\n",
    "for j in range(1,a+1):\n",
    "    b=float(input('Enter the Y_values :'))\n",
    "    y.append(b)\n",
    "    "
   ]
  },
  {
   "cell_type": "code",
   "execution_count": 2,
   "id": "e4128cfd",
   "metadata": {},
   "outputs": [
    {
     "data": {
      "text/html": [
       "<div>\n",
       "<style scoped>\n",
       "    .dataframe tbody tr th:only-of-type {\n",
       "        vertical-align: middle;\n",
       "    }\n",
       "\n",
       "    .dataframe tbody tr th {\n",
       "        vertical-align: top;\n",
       "    }\n",
       "\n",
       "    .dataframe thead th {\n",
       "        text-align: right;\n",
       "    }\n",
       "</style>\n",
       "<table border=\"1\" class=\"dataframe\">\n",
       "  <thead>\n",
       "    <tr style=\"text-align: right;\">\n",
       "      <th></th>\n",
       "      <th>x</th>\n",
       "      <th>y</th>\n",
       "    </tr>\n",
       "  </thead>\n",
       "  <tbody>\n",
       "    <tr>\n",
       "      <th>0</th>\n",
       "      <td>1</td>\n",
       "      <td>1.7</td>\n",
       "    </tr>\n",
       "    <tr>\n",
       "      <th>1</th>\n",
       "      <td>2</td>\n",
       "      <td>4.0</td>\n",
       "    </tr>\n",
       "    <tr>\n",
       "      <th>2</th>\n",
       "      <td>3</td>\n",
       "      <td>6.9</td>\n",
       "    </tr>\n",
       "    <tr>\n",
       "      <th>3</th>\n",
       "      <td>4</td>\n",
       "      <td>9.5</td>\n",
       "    </tr>\n",
       "    <tr>\n",
       "      <th>4</th>\n",
       "      <td>5</td>\n",
       "      <td>11.7</td>\n",
       "    </tr>\n",
       "    <tr>\n",
       "      <th>5</th>\n",
       "      <td>6</td>\n",
       "      <td>13.9</td>\n",
       "    </tr>\n",
       "    <tr>\n",
       "      <th>6</th>\n",
       "      <td>7</td>\n",
       "      <td>16.6</td>\n",
       "    </tr>\n",
       "    <tr>\n",
       "      <th>7</th>\n",
       "      <td>8</td>\n",
       "      <td>19.3</td>\n",
       "    </tr>\n",
       "    <tr>\n",
       "      <th>8</th>\n",
       "      <td>9</td>\n",
       "      <td>22.8</td>\n",
       "    </tr>\n",
       "    <tr>\n",
       "      <th>9</th>\n",
       "      <td>10</td>\n",
       "      <td>25.1</td>\n",
       "    </tr>\n",
       "  </tbody>\n",
       "</table>\n",
       "</div>"
      ],
      "text/plain": [
       "    x     y\n",
       "0   1   1.7\n",
       "1   2   4.0\n",
       "2   3   6.9\n",
       "3   4   9.5\n",
       "4   5  11.7\n",
       "5   6  13.9\n",
       "6   7  16.6\n",
       "7   8  19.3\n",
       "8   9  22.8\n",
       "9  10  25.1"
      ]
     },
     "execution_count": 2,
     "metadata": {},
     "output_type": "execute_result"
    }
   ],
   "source": [
    "df=pd.DataFrame(\n",
    "       data={\n",
    "           \"x\":x,\n",
    "           \"y\":y\n",
    "       }\n",
    ") \n",
    "df"
   ]
  },
  {
   "cell_type": "markdown",
   "id": "8234a78a",
   "metadata": {},
   "source": [
    "$$ m = \\frac{n\\sum x*y - \\sum x\\sum y}{n\\sum x^{2} - (\\sum x)^{2}} $$   \n",
    "\n",
    "\n"
   ]
  },
  {
   "cell_type": "markdown",
   "id": "3f78984f",
   "metadata": {},
   "source": [
    "$$ b = \\frac{\\sum y - m * \\sum x}{n}$$\n"
   ]
  },
  {
   "cell_type": "markdown",
   "id": "5c331276",
   "metadata": {},
   "source": [
    "$$y_{pred} = m\\sum_{i = 1}^{n}x + b$$"
   ]
  },
  {
   "cell_type": "markdown",
   "id": "de86bea8",
   "metadata": {},
   "source": [
    "$$ squarederror = \\sum_{i=0}^{n}  (y_{pred} - y_{org})^{2}$$"
   ]
  },
  {
   "cell_type": "code",
   "execution_count": 3,
   "id": "dab50749",
   "metadata": {},
   "outputs": [
    {
     "data": {
      "text/html": [
       "<div>\n",
       "<style scoped>\n",
       "    .dataframe tbody tr th:only-of-type {\n",
       "        vertical-align: middle;\n",
       "    }\n",
       "\n",
       "    .dataframe tbody tr th {\n",
       "        vertical-align: top;\n",
       "    }\n",
       "\n",
       "    .dataframe thead th {\n",
       "        text-align: right;\n",
       "    }\n",
       "</style>\n",
       "<table border=\"1\" class=\"dataframe\">\n",
       "  <thead>\n",
       "    <tr style=\"text-align: right;\">\n",
       "      <th></th>\n",
       "      <th>x</th>\n",
       "      <th>y</th>\n",
       "      <th>xy</th>\n",
       "      <th>x^2</th>\n",
       "    </tr>\n",
       "  </thead>\n",
       "  <tbody>\n",
       "    <tr>\n",
       "      <th>0</th>\n",
       "      <td>1</td>\n",
       "      <td>1.7</td>\n",
       "      <td>1.7</td>\n",
       "      <td>1</td>\n",
       "    </tr>\n",
       "    <tr>\n",
       "      <th>1</th>\n",
       "      <td>2</td>\n",
       "      <td>4.0</td>\n",
       "      <td>8.0</td>\n",
       "      <td>4</td>\n",
       "    </tr>\n",
       "    <tr>\n",
       "      <th>2</th>\n",
       "      <td>3</td>\n",
       "      <td>6.9</td>\n",
       "      <td>20.7</td>\n",
       "      <td>9</td>\n",
       "    </tr>\n",
       "    <tr>\n",
       "      <th>3</th>\n",
       "      <td>4</td>\n",
       "      <td>9.5</td>\n",
       "      <td>38.0</td>\n",
       "      <td>16</td>\n",
       "    </tr>\n",
       "    <tr>\n",
       "      <th>4</th>\n",
       "      <td>5</td>\n",
       "      <td>11.7</td>\n",
       "      <td>58.5</td>\n",
       "      <td>25</td>\n",
       "    </tr>\n",
       "    <tr>\n",
       "      <th>5</th>\n",
       "      <td>6</td>\n",
       "      <td>13.9</td>\n",
       "      <td>83.4</td>\n",
       "      <td>36</td>\n",
       "    </tr>\n",
       "    <tr>\n",
       "      <th>6</th>\n",
       "      <td>7</td>\n",
       "      <td>16.6</td>\n",
       "      <td>116.2</td>\n",
       "      <td>49</td>\n",
       "    </tr>\n",
       "    <tr>\n",
       "      <th>7</th>\n",
       "      <td>8</td>\n",
       "      <td>19.3</td>\n",
       "      <td>154.4</td>\n",
       "      <td>64</td>\n",
       "    </tr>\n",
       "    <tr>\n",
       "      <th>8</th>\n",
       "      <td>9</td>\n",
       "      <td>22.8</td>\n",
       "      <td>205.2</td>\n",
       "      <td>81</td>\n",
       "    </tr>\n",
       "    <tr>\n",
       "      <th>9</th>\n",
       "      <td>10</td>\n",
       "      <td>25.1</td>\n",
       "      <td>251.0</td>\n",
       "      <td>100</td>\n",
       "    </tr>\n",
       "  </tbody>\n",
       "</table>\n",
       "</div>"
      ],
      "text/plain": [
       "    x     y     xy  x^2\n",
       "0   1   1.7    1.7    1\n",
       "1   2   4.0    8.0    4\n",
       "2   3   6.9   20.7    9\n",
       "3   4   9.5   38.0   16\n",
       "4   5  11.7   58.5   25\n",
       "5   6  13.9   83.4   36\n",
       "6   7  16.6  116.2   49\n",
       "7   8  19.3  154.4   64\n",
       "8   9  22.8  205.2   81\n",
       "9  10  25.1  251.0  100"
      ]
     },
     "execution_count": 3,
     "metadata": {},
     "output_type": "execute_result"
    }
   ],
   "source": [
    "df['xy']=df['x']*df['y']\n",
    "df['x^2']=df['x']**2\n",
    "df"
   ]
  },
  {
   "cell_type": "code",
   "execution_count": 4,
   "id": "4d598111",
   "metadata": {},
   "outputs": [],
   "source": [
    "class linear_regression:\n",
    "    def __init__(self,df):\n",
    "        self.n = len(df)\n",
    "        self.sum_xy=df['xy'].sum()\n",
    "        self.sum_x = df['x'].sum()\n",
    "        self.sum_y = df['y'].sum()\n",
    "        self.sum_x_2 = df['x^2'].sum()\n",
    "        self.sum_x_h_2 = self.sum_x ** 2        \n",
    "## finding 'm'        \n",
    "        self.numerator_m=(self.n*self.sum_xy)-(self.sum_x*self.sum_y)\n",
    "        self.denominator_m=(self.n*self.sum_x_2)-(self.sum_x_h_2)\n",
    "        self.mvalue=self.numerator_m/self.denominator_m\n",
    "        \n",
    "## finding 'b'        \n",
    "        self.numerator_b=(self.sum_y)-(self.mvalue*self.sum_x)\n",
    "        self.denominator_b=self.n\n",
    "        self.bvalue=self.numerator_b/self.denominator_b\n",
    "        \n",
    "        self.y_prd = [round((self.mvalue * xi + self.bvalue), 2) for xi in df['x']]\n",
    "\n",
    "    \n",
    "    def m_value(self):\n",
    "        return self.mvalue    \n",
    "    \n",
    "    def b_value(self):\n",
    "        return self.bvalue    \n",
    "    \n",
    "    def y_pred(self):\n",
    "        \n",
    "        y_pred = [round((self.mvalue * xi + self.bvalue), 2) for xi in df['x']]\n",
    "        return y_pred \n",
    "    \n",
    "    def squared_error(self):\n",
    "        sq_e = sum([(y_pred_value - y_org_value) ** 2 \n",
    "                for y_pred_value, y_org_value in zip(self.y_prd, df['y'].values)])\n",
    "        return sq_e\n",
    "    \n"
   ]
  },
  {
   "cell_type": "code",
   "execution_count": 5,
   "id": "919e206c",
   "metadata": {},
   "outputs": [
    {
     "name": "stdout",
     "output_type": "stream",
     "text": [
      "Value of m is : 2.5921212121212123\n"
     ]
    }
   ],
   "source": [
    "m_val=linear_regression(df)\n",
    "m=m_val.m_value()\n",
    "print(\"Value of m is :\",m)"
   ]
  },
  {
   "cell_type": "code",
   "execution_count": 6,
   "id": "488c9a37",
   "metadata": {},
   "outputs": [
    {
     "name": "stdout",
     "output_type": "stream",
     "text": [
      "Value of b is : -1.1066666666666662\n"
     ]
    }
   ],
   "source": [
    "b_val=linear_regression(df)\n",
    "b=b_val.b_value()\n",
    "print(\"Value of b is :\",b)"
   ]
  },
  {
   "cell_type": "code",
   "execution_count": 7,
   "id": "613505e7",
   "metadata": {},
   "outputs": [
    {
     "name": "stdout",
     "output_type": "stream",
     "text": [
      "Value of predicted y is : [1.49, 4.08, 6.67, 9.26, 11.85, 14.45, 17.04, 19.63, 22.22, 24.81]\n"
     ]
    }
   ],
   "source": [
    "\n",
    "y_val=linear_regression(df)\n",
    "y=y_val.y_pred()\n",
    "print(\"Value of predicted y is :\",y)\n",
    "\n"
   ]
  },
  {
   "cell_type": "code",
   "execution_count": 8,
   "id": "f1979dc6",
   "metadata": {},
   "outputs": [
    {
     "name": "stdout",
     "output_type": "stream",
     "text": [
      "Value of Squared Error is : 1.2089999999999999\n"
     ]
    }
   ],
   "source": [
    "se_val=linear_regression(df)\n",
    "sqe=se_val.squared_error()\n",
    "print(\"Value of Squared Error is :\",sqe)"
   ]
  },
  {
   "cell_type": "code",
   "execution_count": 9,
   "id": "e7986abc",
   "metadata": {},
   "outputs": [
    {
     "data": {
      "image/png": "[encoded data removed]",
      "text/plain": [
       "<Figure size 432x288 with 1 Axes>"
      ]
     },
     "metadata": {
      "needs_background": "light"
     },
     "output_type": "display_data"
    }
   ],
   "source": [
    "class graph:\n",
    "    def __init__(self,df,y_pred):\n",
    "        plt.scatter(list(range(len(df))),df['y'].values,label=\"original\")\n",
    "        plt.plot(list(range(len(df))),y_pred,c='g',label=\"predicted\")\n",
    "        plt.scatter(list(range(len(df))),y_pred,c='m',label=\"predicted_S\")\n",
    "        plt.legend()\n",
    "        plt.show()\n",
    "import matplotlib.pyplot as plt\n",
    "Graph_Var=graph(df,y)"
   ]
  }
 ],
 "metadata": {
  "kernelspec": {
   "display_name": "Python 3 (ipykernel)",
   "language": "python",
   "name": "python3"
  },
  "language_info": {
   "codemirror_mode": {
    "name": "ipython",
    "version": 3
   },
   "file_extension": ".py",
   "mimetype": "text/x-python",
   "name": "python",
   "nbconvert_exporter": "python",
   "pygments_lexer": "ipython3",
   "version": "3.9.7"
  }
 },
 "nbformat": 4,
 "nbformat_minor": 5
}
